{
 "metadata": {
  "language_info": {
   "codemirror_mode": {
    "name": "ipython",
    "version": 3
   },
   "file_extension": ".py",
   "mimetype": "text/x-python",
   "name": "python",
   "nbconvert_exporter": "python",
   "pygments_lexer": "ipython3",
   "version": 3
  },
  "orig_nbformat": 4
 },
 "nbformat": 4,
 "nbformat_minor": 2,
 "cells": [
  {
   "cell_type": "code",
   "execution_count": null,
   "metadata": {},
   "outputs": [],
   "source": [
    "!unzip ./dataset/data/01.Normal.zip -d /content/data\n",
    "!unzip ./dataset/data/download\\ \\(1\\).zip -d /content/data"
   ]
  },
  {
   "cell_type": "code",
   "execution_count": null,
   "metadata": {},
   "outputs": [],
   "source": [
    "import os\n",
    "from subprocess import Popen, PIPE, STDOUT\n",
    "es_server = Popen(['/content/elasticsearch-7.9.2/bin/elasticsearch'],\n",
    "                   stdout=PIPE, stderr=STDOUT,\n",
    "                   preexec_fn=lambda: os.setuid(1)  # as daemon\n",
    "                  )\n",
    "# wait until ES has started\n",
    "! sleep 30"
   ]
  },
  {
   "cell_type": "code",
   "execution_count": null,
   "metadata": {},
   "outputs": [],
   "source": [
    "cd /content/drive/MyDrive/haystack_tutorial/\n",
    "!python squad_to_dpr.py --squad_input_filename /content/drive/MyDrive/haystack_tutorial/dataset/ko_wiki_v1_squad.json --dpr_output_filename ./dataset/aihub_dpr.json --num_hard_negative_ctxs 16\n",
    "!python squad_to_dpr.py --squad_input_filename /content/drive/MyDrive/haystack_tutorial/dataset/korquad_concat.json --dpr_output_filename ./dataset/korquad_concat_dpr.json --num_hard_negative_ctxs 16"
   ]
  },
  {
   "cell_type": "code",
   "execution_count": null,
   "metadata": {},
   "outputs": [],
   "source": [
    "from haystack.squad_data import SquadData\n",
    "dataset = SquadData.from_file('/content/drive/MyDrive/haystack_tutorial/dataset/KorQuAD_v1.0_train_impossible.json')\n",
    "\n",
    "dataset.merge_from_file('/content/drive/MyDrive/haystack_tutorial/dataset/ko_wiki_v1_squad_impossible.json')\n",
    "dataset.save('/content/drive/MyDrive/haystack_tutorial/dataset/korquad_concat.json')"
   ]
  },
  {
   "cell_type": "code",
   "execution_count": null,
   "metadata": {},
   "outputs": [],
   "source": [
    "!python squad_to_dpr.py --squad_input_filename /content/drive/MyDrive/haystack_tutorial/dataset/korquad_concat.json --dpr_output_filename ./dataset/korquad_concat_dpr.json --num_hard_negative_ctxs 16"
   ]
  },
  {
   "cell_type": "code",
   "execution_count": null,
   "metadata": {},
   "outputs": [],
   "source": [
    "!python squad_to_dpr.py --squad_input_filename /content/drive/MyDrive/haystack_tutorial/dataset/KorQuAD_v1.0_dev.json --dpr_output_filename ./dataset/korquad_concat_dpr_dev.json --num_hard_negative_ctxs 16"
   ]
  }
 ]
}